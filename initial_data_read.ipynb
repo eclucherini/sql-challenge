{
 "cells": [
  {
   "cell_type": "code",
   "execution_count": 12,
   "metadata": {},
   "outputs": [],
   "source": [
    "# Dependencies and setup\n",
    "import pandas as pd\n",
    "\n",
    "from pathlib import Path"
   ]
  },
  {
   "cell_type": "code",
   "execution_count": 2,
   "metadata": {},
   "outputs": [],
   "source": [
    "# Load resource files\n",
    "departments_load = Path(\"data/departments.csv\")\n",
    "dept_emp_load = Path(\"data/dept_emp.csv\")\n",
    "dept_manager_load = Path(\"data/dept_manager.csv\")\n",
    "employees_load = Path(\"data/employees.csv\")\n",
    "salaries_load = Path(\"data/salaries.csv\")\n",
    "titles_load = Path(\"data/titles.csv\")"
   ]
  },
  {
   "cell_type": "code",
   "execution_count": 3,
   "metadata": {},
   "outputs": [],
   "source": [
    "# Read data files and store into Pandas DataFrames\n",
    "departments_df = pd.read_csv(departments_load)\n",
    "dept_emp_df = pd.read_csv(dept_emp_load)\n",
    "dept_manager_df = pd.read_csv(dept_manager_load)\n",
    "employees_df = pd.read_csv(employees_load)\n",
    "salaries_df = pd.read_csv(salaries_load)\n",
    "titles_df = pd.read_csv(titles_load)"
   ]
  },
  {
   "cell_type": "code",
   "execution_count": 7,
   "metadata": {},
   "outputs": [
    {
     "data": {
      "text/plain": [
       "emp_no           int64\n",
       "emp_title_id    object\n",
       "birth_date      object\n",
       "first_name      object\n",
       "last_name       object\n",
       "sex             object\n",
       "hire_date       object\n",
       "dtype: object"
      ]
     },
     "execution_count": 7,
     "metadata": {},
     "output_type": "execute_result"
    }
   ],
   "source": [
    "## Check initial data types of each column of each dataframe\n",
    "# departments_df.dtypes\n",
    "# dept_emp_df.dtypes\n",
    "# dept_manager_df.dtypes\n",
    "# employees_df.dtypes\n",
    "# salaries_df.dtypes\n",
    "titles_df.dtypes"
   ]
  },
  {
   "cell_type": "code",
   "execution_count": 18,
   "metadata": {},
   "outputs": [
    {
     "data": {
      "text/plain": [
       "title_id    0\n",
       "title       0\n",
       "dtype: int64"
      ]
     },
     "execution_count": 18,
     "metadata": {},
     "output_type": "execute_result"
    }
   ],
   "source": [
    "## Find null values in dataframes\n",
    "# departments_df.isna().sum()\n",
    "# dept_emp_df.isna().sum()\n",
    "# dept_manager_df.isna().sum()\n",
    "# employees_df.isna().sum()\n",
    "# salaries_df.isna().sum()\n",
    "titles_df.isna().sum()"
   ]
  }
 ],
 "metadata": {
  "kernelspec": {
   "display_name": "base",
   "language": "python",
   "name": "python3"
  },
  "language_info": {
   "codemirror_mode": {
    "name": "ipython",
    "version": 3
   },
   "file_extension": ".py",
   "mimetype": "text/x-python",
   "name": "python",
   "nbconvert_exporter": "python",
   "pygments_lexer": "ipython3",
   "version": "3.10.9"
  },
  "orig_nbformat": 4
 },
 "nbformat": 4,
 "nbformat_minor": 2
}
